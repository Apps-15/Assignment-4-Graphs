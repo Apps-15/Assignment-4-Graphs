{
 "cells": [
  {
   "cell_type": "code",
   "execution_count": 1,
   "metadata": {},
   "outputs": [
    {
     "name": "stdout",
     "output_type": "stream",
     "text": [
      "0 1 0 0 \n",
      "0 0 0 1 \n",
      "1 0 0 0 \n",
      "0 0 1 0 \n",
      "\n",
      "0 0 1 0 \n",
      "1 0 0 0 \n",
      "0 0 0 1 \n",
      "0 1 0 0 \n",
      "\n"
     ]
    }
   ],
   "source": [
    "def is_safe(board, row, col, n):\n",
    "    # Check if there is a queen in the same column\n",
    "    for i in range(row):\n",
    "        if board[i][col] == 1:\n",
    "            return False\n",
    "\n",
    "    # Check upper left diagonal\n",
    "    for i, j in zip(range(row, -1, -1), range(col, -1, -1)):\n",
    "        if board[i][j] == 1:\n",
    "            return False\n",
    "\n",
    "    # Check upper right diagonal\n",
    "    for i, j in zip(range(row, -1, -1), range(col, n)):\n",
    "        if board[i][j] == 1:\n",
    "            return False\n",
    "\n",
    "    return True\n",
    "\n",
    "def solve_n_queens_util(board, row, n):\n",
    "    if row == n:\n",
    "        # Print the board when a solution is found\n",
    "        for i in range(n):\n",
    "            for j in range(n):\n",
    "                print(board[i][j], end=\" \")\n",
    "            print()\n",
    "        print()\n",
    "        return\n",
    "\n",
    "    for col in range(n):\n",
    "        if is_safe(board, row, col, n):\n",
    "            board[row][col] = 1\n",
    "            solve_n_queens_util(board, row + 1, n)\n",
    "            board[row][col] = 0\n",
    "\n",
    "def solve_n_queens(n):\n",
    "    board = [[0 for _ in range(n)] for _ in range(n)]\n",
    "    solve_n_queens_util(board, 0, n)\n",
    "\n",
    "# Example usage for 4-queens problem:\n",
    "solve_n_queens(4)\n"
   ]
  },
  {
   "cell_type": "code",
   "execution_count": 2,
   "metadata": {},
   "outputs": [
    {
     "name": "stdout",
     "output_type": "stream",
     "text": [
      "Breadth-First Traversal starting from vertex 2:\n",
      "2 0 3 1 "
     ]
    }
   ],
   "source": [
    "from collections import defaultdict\n",
    "\n",
    "class Graph:\n",
    "    def __init__(self):\n",
    "        self.graph = defaultdict(list)\n",
    "\n",
    "    def add_edge(self, u, v):\n",
    "        self.graph[u].append(v)\n",
    "\n",
    "    def bfs(self, start):\n",
    "        visited = set()\n",
    "        queue = [start]\n",
    "        visited.add(start)\n",
    "\n",
    "        while queue:\n",
    "            node = queue.pop(0)\n",
    "            print(node, end=\" \")\n",
    "\n",
    "            for neighbor in self.graph[node]:\n",
    "                if neighbor not in visited:\n",
    "                    queue.append(neighbor)\n",
    "                    visited.add(neighbor)\n",
    "\n",
    "# Example usage:\n",
    "g = Graph()\n",
    "g.add_edge(0, 1)\n",
    "g.add_edge(0, 2)\n",
    "g.add_edge(1, 2)\n",
    "g.add_edge(2, 0)\n",
    "g.add_edge(2, 3)\n",
    "g.add_edge(3, 3)\n",
    "\n",
    "print(\"Breadth-First Traversal starting from vertex 2:\")\n",
    "g.bfs(2)\n"
   ]
  },
  {
   "cell_type": "code",
   "execution_count": 3,
   "metadata": {},
   "outputs": [
    {
     "name": "stdout",
     "output_type": "stream",
     "text": [
      "Graph contains a cycle.\n"
     ]
    }
   ],
   "source": [
    "from collections import defaultdict\n",
    "\n",
    "class Graph:\n",
    "    def __init__(self):\n",
    "        self.graph = defaultdict(list)\n",
    "\n",
    "    def add_edge(self, u, v):\n",
    "        self.graph[u].append(v)\n",
    "\n",
    "    def is_cyclic_util(self, v, visited, rec_stack):\n",
    "        visited[v] = True\n",
    "        rec_stack[v] = True\n",
    "\n",
    "        for neighbor in self.graph[v]:\n",
    "            if not visited[neighbor]:\n",
    "                if self.is_cyclic_util(neighbor, visited, rec_stack):\n",
    "                    return True\n",
    "            elif rec_stack[neighbor]:\n",
    "                return True\n",
    "\n",
    "        rec_stack[v] = False\n",
    "        return False\n",
    "\n",
    "    def is_cyclic(self):\n",
    "        visited = [False] * len(self.graph)\n",
    "        rec_stack = [False] * len(self.graph)\n",
    "\n",
    "        for node in range(len(self.graph)):\n",
    "            if not visited[node]:\n",
    "                if self.is_cyclic_util(node, visited, rec_stack):\n",
    "                    return True\n",
    "        return False\n",
    "\n",
    "# Example usage:\n",
    "g = Graph()\n",
    "g.add_edge(0, 1)\n",
    "g.add_edge(1, 2)\n",
    "g.add_edge(2, 0)\n",
    "g.add_edge(2, 3)\n",
    "\n",
    "if g.is_cyclic():\n",
    "    print(\"Graph contains a cycle.\")\n",
    "else:\n",
    "    print(\"Graph does not contain a cycle.\")\n"
   ]
  }
 ],
 "metadata": {
  "kernelspec": {
   "display_name": "Python 3",
   "language": "python",
   "name": "python3"
  },
  "language_info": {
   "codemirror_mode": {
    "name": "ipython",
    "version": 3
   },
   "file_extension": ".py",
   "mimetype": "text/x-python",
   "name": "python",
   "nbconvert_exporter": "python",
   "pygments_lexer": "ipython3",
   "version": "3.11.4"
  },
  "orig_nbformat": 4
 },
 "nbformat": 4,
 "nbformat_minor": 2
}
